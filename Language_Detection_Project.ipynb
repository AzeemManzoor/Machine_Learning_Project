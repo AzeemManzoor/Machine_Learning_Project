{
 "cells": [
  {
   "cell_type": "code",
   "execution_count": 1,
   "id": "72def5f1",
   "metadata": {},
   "outputs": [],
   "source": [
    "import pandas as pd\n",
    "import numpy as np\n",
    "#Collection of text Document into matrix of token count\n",
    "from sklearn.feature_extraction.text import CountVectorizer\n",
    "\n",
    "#import different ML classifiers\n",
    "from sklearn.model_selection import train_test_split\n",
    "from sklearn.naive_bayes import MultinomialNB\n",
    "from sklearn import preprocessing\n",
    "from sklearn.naive_bayes import GaussianNB, BernoulliNB, MultinomialNB\n",
    "from sklearn.svm import SVC, LinearSVC\n",
    "from sklearn.linear_model import LogisticRegression\n",
    "from sklearn.tree import DecisionTreeClassifier\n",
    "from sklearn.ensemble import RandomForestClassifier\n",
    "from sklearn.neural_network import MLPClassifier\n",
    "from sklearn.neighbors import KNeighborsClassifier\n",
    "\n",
    "#import ML evaluation metrics\n",
    "from sklearn.metrics import accuracy_score, f1_score\n",
    "from sklearn.model_selection import train_test_split\n",
    "from sklearn import metrics, model_selection\n",
    "\n",
    "#import scikitplot to plot confusion matrix\n",
    "import scikitplot as skplt\n"
   ]
  },
  {
   "cell_type": "code",
   "execution_count": 2,
   "id": "43c7e617",
   "metadata": {},
   "outputs": [
    {
     "data": {
      "text/html": [
       "<div>\n",
       "<style scoped>\n",
       "    .dataframe tbody tr th:only-of-type {\n",
       "        vertical-align: middle;\n",
       "    }\n",
       "\n",
       "    .dataframe tbody tr th {\n",
       "        vertical-align: top;\n",
       "    }\n",
       "\n",
       "    .dataframe thead th {\n",
       "        text-align: right;\n",
       "    }\n",
       "</style>\n",
       "<table border=\"1\" class=\"dataframe\">\n",
       "  <thead>\n",
       "    <tr style=\"text-align: right;\">\n",
       "      <th></th>\n",
       "      <th>Text</th>\n",
       "      <th>language</th>\n",
       "    </tr>\n",
       "  </thead>\n",
       "  <tbody>\n",
       "    <tr>\n",
       "      <th>0</th>\n",
       "      <td>klement gottwaldi surnukeha palsameeriti ning ...</td>\n",
       "      <td>Estonian</td>\n",
       "    </tr>\n",
       "    <tr>\n",
       "      <th>1</th>\n",
       "      <td>sebes joseph pereira thomas  på eng the jesuit...</td>\n",
       "      <td>Swedish</td>\n",
       "    </tr>\n",
       "    <tr>\n",
       "      <th>2</th>\n",
       "      <td>ถนนเจริญกรุง อักษรโรมัน thanon charoen krung เ...</td>\n",
       "      <td>Thai</td>\n",
       "    </tr>\n",
       "    <tr>\n",
       "      <th>3</th>\n",
       "      <td>விசாகப்பட்டினம் தமிழ்ச்சங்கத்தை இந்துப் பத்திர...</td>\n",
       "      <td>Tamil</td>\n",
       "    </tr>\n",
       "    <tr>\n",
       "      <th>4</th>\n",
       "      <td>de spons behoort tot het geslacht haliclona en...</td>\n",
       "      <td>Dutch</td>\n",
       "    </tr>\n",
       "    <tr>\n",
       "      <th>...</th>\n",
       "      <td>...</td>\n",
       "      <td>...</td>\n",
       "    </tr>\n",
       "    <tr>\n",
       "      <th>21995</th>\n",
       "      <td>hors du terrain les années  et  sont des année...</td>\n",
       "      <td>French</td>\n",
       "    </tr>\n",
       "    <tr>\n",
       "      <th>21996</th>\n",
       "      <td>ใน พศ  หลักจากที่เสด็จประพาสแหลมมลายู ชวา อินเ...</td>\n",
       "      <td>Thai</td>\n",
       "    </tr>\n",
       "    <tr>\n",
       "      <th>21997</th>\n",
       "      <td>con motivo de la celebración del septuagésimoq...</td>\n",
       "      <td>Spanish</td>\n",
       "    </tr>\n",
       "    <tr>\n",
       "      <th>21998</th>\n",
       "      <td>年月，當時還只有歲的她在美國出道，以mai-k名義推出首張英文《baby i like》，由...</td>\n",
       "      <td>Chinese</td>\n",
       "    </tr>\n",
       "    <tr>\n",
       "      <th>21999</th>\n",
       "      <td>aprilie sonda spațială messenger a nasa și-a ...</td>\n",
       "      <td>Romanian</td>\n",
       "    </tr>\n",
       "  </tbody>\n",
       "</table>\n",
       "<p>22000 rows × 2 columns</p>\n",
       "</div>"
      ],
      "text/plain": [
       "                                                    Text  language\n",
       "0      klement gottwaldi surnukeha palsameeriti ning ...  Estonian\n",
       "1      sebes joseph pereira thomas  på eng the jesuit...   Swedish\n",
       "2      ถนนเจริญกรุง อักษรโรมัน thanon charoen krung เ...      Thai\n",
       "3      விசாகப்பட்டினம் தமிழ்ச்சங்கத்தை இந்துப் பத்திர...     Tamil\n",
       "4      de spons behoort tot het geslacht haliclona en...     Dutch\n",
       "...                                                  ...       ...\n",
       "21995  hors du terrain les années  et  sont des année...    French\n",
       "21996  ใน พศ  หลักจากที่เสด็จประพาสแหลมมลายู ชวา อินเ...      Thai\n",
       "21997  con motivo de la celebración del septuagésimoq...   Spanish\n",
       "21998  年月，當時還只有歲的她在美國出道，以mai-k名義推出首張英文《baby i like》，由...   Chinese\n",
       "21999   aprilie sonda spațială messenger a nasa și-a ...  Romanian\n",
       "\n",
       "[22000 rows x 2 columns]"
      ]
     },
     "execution_count": 2,
     "metadata": {},
     "output_type": "execute_result"
    }
   ],
   "source": [
    "# data = pd.read_csv(\"https://raw.githubusercontent.com/amankharwal/website-data/master/dataset.csv\")\n",
    "data = pd.read_csv(\"Languages_data.csv\")\n",
    "data"
   ]
  },
  {
   "cell_type": "code",
   "execution_count": 3,
   "id": "7868d118",
   "metadata": {},
   "outputs": [
    {
     "name": "stdout",
     "output_type": "stream",
     "text": [
      "<class 'pandas.core.frame.DataFrame'>\n",
      "RangeIndex: 22000 entries, 0 to 21999\n",
      "Data columns (total 2 columns):\n",
      " #   Column    Non-Null Count  Dtype \n",
      "---  ------    --------------  ----- \n",
      " 0   Text      22000 non-null  object\n",
      " 1   language  22000 non-null  object\n",
      "dtypes: object(2)\n",
      "memory usage: 343.9+ KB\n"
     ]
    }
   ],
   "source": [
    "data.info()    #dataset do not contain any null value"
   ]
  },
  {
   "cell_type": "code",
   "execution_count": 4,
   "id": "8414ef48",
   "metadata": {},
   "outputs": [
    {
     "data": {
      "text/plain": [
       "Text        0\n",
       "language    0\n",
       "dtype: int64"
      ]
     },
     "execution_count": 4,
     "metadata": {},
     "output_type": "execute_result"
    }
   ],
   "source": [
    "data.isnull().sum()           # returns the number of missing values in the data set."
   ]
  },
  {
   "cell_type": "code",
   "execution_count": 5,
   "id": "ec8e42ca",
   "metadata": {},
   "outputs": [
    {
     "data": {
      "text/plain": [
       "Estonian      1000\n",
       "Swedish       1000\n",
       "English       1000\n",
       "Russian       1000\n",
       "Romanian      1000\n",
       "Persian       1000\n",
       "Pushto        1000\n",
       "Spanish       1000\n",
       "Hindi         1000\n",
       "Korean        1000\n",
       "Chinese       1000\n",
       "French        1000\n",
       "Portugese     1000\n",
       "Indonesian    1000\n",
       "Urdu          1000\n",
       "Latin         1000\n",
       "Turkish       1000\n",
       "Japanese      1000\n",
       "Dutch         1000\n",
       "Tamil         1000\n",
       "Thai          1000\n",
       "Arabic        1000\n",
       "Name: language, dtype: int64"
      ]
     },
     "execution_count": 5,
     "metadata": {},
     "output_type": "execute_result"
    }
   ],
   "source": [
    "data[\"language\"].value_counts()"
   ]
  },
  {
   "cell_type": "code",
   "execution_count": 6,
   "id": "284bec51",
   "metadata": {},
   "outputs": [],
   "source": [
    "x = data[\"Text\"]\n",
    "y = data[\"language\"]"
   ]
  },
  {
   "cell_type": "code",
   "execution_count": 7,
   "id": "e3a79584",
   "metadata": {},
   "outputs": [],
   "source": [
    "data=x\n",
    "target=y"
   ]
  },
  {
   "cell_type": "code",
   "execution_count": 8,
   "id": "6f09ddc3",
   "metadata": {},
   "outputs": [
    {
     "data": {
      "text/plain": [
       "<22000x277635 sparse matrix of type '<class 'numpy.int64'>'\n",
       "\twith 913239 stored elements in Compressed Sparse Row format>"
      ]
     },
     "execution_count": 8,
     "metadata": {},
     "output_type": "execute_result"
    }
   ],
   "source": [
    "CV = CountVectorizer()\n",
    "X = CV.fit_transform(x)\n",
    "X"
   ]
  },
  {
   "cell_type": "code",
   "execution_count": 9,
   "id": "e3a50386",
   "metadata": {},
   "outputs": [],
   "source": [
    "#Split Train Test function\n",
    "X_train, X_test, y_train, y_test = train_test_split(X, y, test_size=0.33, random_state=42)\n"
   ]
  },
  {
   "cell_type": "code",
   "execution_count": 10,
   "id": "83d8b4b6",
   "metadata": {},
   "outputs": [],
   "source": [
    "\n",
    "#select a classifier\n",
    "# model = GaussianNB()\n",
    "# model = BernoulliNB()\n",
    "model = MultinomialNB()\n",
    "\n",
    "#other ML classifiers\n",
    "# model = SVC()\n",
    "# model=LinearSVC()\n",
    "# model=LogisticRegression()\n",
    "# model = RandomForestClassifier()\n",
    "# model = DecisionTreeClassifier()\n",
    "# model=MLPClassifier()\n",
    "# model=KNeighborsClassifier(n_neighbors=4)\n",
    "\n",
    "\n"
   ]
  },
  {
   "cell_type": "code",
   "execution_count": 11,
   "id": "ee87ae74",
   "metadata": {},
   "outputs": [
    {
     "data": {
      "text/plain": [
       "0.952892561983471"
      ]
     },
     "execution_count": 11,
     "metadata": {},
     "output_type": "execute_result"
    }
   ],
   "source": [
    "model.fit(X_train,y_train)\n",
    "model.score(X_test,y_test)"
   ]
  },
  {
   "cell_type": "code",
   "execution_count": 12,
   "id": "aefd160f",
   "metadata": {},
   "outputs": [
    {
     "name": "stdout",
     "output_type": "stream",
     "text": [
      "[[340   0   0   1   0   0   0   0   0   0   0   0   0   0   0   0   0   0\n",
      "    0   0   0   0]\n",
      " [  0 159   0  25   0   2   0   0 119   0   1   0   0   0   3   0   3   2\n",
      "    0   0   3   0]\n",
      " [  0   0 342   1   0   3   0   0   0   0   0   0   0   0   0   0   0   0\n",
      "    0   0   0   0]\n",
      " [  0   0   0 333   0   0   0   0   0   0   0   0   0   0   0   0   0   0\n",
      "    0   0   0   0]\n",
      " [  0   0   1   8 325   1   0   1   0   0   0   0   0   0   0   2   0   0\n",
      "    0   0   0   0]\n",
      " [  0   0   0   3   0 320   0   0   0   0   0   0   0   0   0   0   1   0\n",
      "    0   0   0   0]\n",
      " [  0   0   0   7   0   0 334   0   0   0   0   0   0   0   0   0   0   0\n",
      "    0   0   0   0]\n",
      " [  0   0   0  10   0   0   0 308   0   0   0   0   0   0   0   0   0   0\n",
      "    0   0   0   0]\n",
      " [  0  12   2  12   3   4   1   1 284   0   1   0   0   0   1   1   3   2\n",
      "    0   0   1   0]\n",
      " [  0   0   0   2   0   0   0   0   6 317   0   0   0   0   0   0   0   0\n",
      "    0   0   0   0]\n",
      " [  0   0   1  22   0   5   0   1   1   0 314   0   0   0   0   0   2   0\n",
      "    0   0   0   0]\n",
      " [  0   0   0   1   0   0   0   0   0   0   0 322   0   0   0   0   0   0\n",
      "    0   0   0   0]\n",
      " [  0   0   1  11   1   0   0   0   0   0   1   0 304   0   0   0   0   0\n",
      "    0   0   0   0]\n",
      " [  0   0   0   9   0   0   0   0   0   0   0   0   0 318   0   1   0   0\n",
      "    0   0   0   0]\n",
      " [  0   0   0   4   0   1   0   0   0   0   0   0   0   0 319   0   0   0\n",
      "    0   0   0   0]\n",
      " [  0   0   0   3   0   0   0   0   0   0   0   0   0   0   0 329   0   0\n",
      "    0   0   0   0]\n",
      " [  0   0   0   2   0   0   0   0   0   0   0   0   0   0   0   0 320   0\n",
      "    0   0   0   0]\n",
      " [  0   0   0   0   0   0   0   0   0   0   0   0   0   0   0   0   0 317\n",
      "    0   0   0   0]\n",
      " [  0   0   0   4   0   1   0   0   0   0   0   0   0   0   0   0   0   0\n",
      "  325   0   0   0]\n",
      " [  0   0   0   6   0   1   0   0   0   0   0   0   0   0   0   0   0   0\n",
      "    0 328   0   0]\n",
      " [  0   0   0   8   0   0   0   0   0   0   0   0   0   0   0   0   0   0\n",
      "    0   0 319   0]\n",
      " [  0   0   0   5   0   0   0   0   0   0   0   0   0   0   0   0   1   0\n",
      "    0   0   0 341]]\n"
     ]
    }
   ],
   "source": [
    "pred=model.predict(X_test)\n",
    "from sklearn.metrics import classification_report,confusion_matrix\n",
    "print(confusion_matrix(y_test,pred))"
   ]
  },
  {
   "cell_type": "code",
   "execution_count": 13,
   "id": "a9c5b2ea",
   "metadata": {},
   "outputs": [
    {
     "name": "stdout",
     "output_type": "stream",
     "text": [
      "              precision    recall  f1-score   support\n",
      "\n",
      "      Arabic       1.00      1.00      1.00       341\n",
      "     Chinese       0.93      0.50      0.65       317\n",
      "       Dutch       0.99      0.99      0.99       346\n",
      "     English       0.70      1.00      0.82       333\n",
      "    Estonian       0.99      0.96      0.97       338\n",
      "      French       0.95      0.99      0.97       324\n",
      "       Hindi       1.00      0.98      0.99       341\n",
      "  Indonesian       0.99      0.97      0.98       318\n",
      "    Japanese       0.69      0.87      0.77       328\n",
      "      Korean       1.00      0.98      0.99       325\n",
      "       Latin       0.99      0.91      0.95       346\n",
      "     Persian       1.00      1.00      1.00       323\n",
      "   Portugese       1.00      0.96      0.98       318\n",
      "      Pushto       1.00      0.97      0.98       328\n",
      "    Romanian       0.99      0.98      0.99       324\n",
      "     Russian       0.99      0.99      0.99       332\n",
      "     Spanish       0.97      0.99      0.98       322\n",
      "     Swedish       0.99      1.00      0.99       317\n",
      "       Tamil       1.00      0.98      0.99       330\n",
      "        Thai       1.00      0.98      0.99       335\n",
      "     Turkish       0.99      0.98      0.98       327\n",
      "        Urdu       1.00      0.98      0.99       347\n",
      "\n",
      "    accuracy                           0.95      7260\n",
      "   macro avg       0.96      0.95      0.95      7260\n",
      "weighted avg       0.96      0.95      0.95      7260\n",
      "\n"
     ]
    }
   ],
   "source": [
    "print(classification_report(y_test,pred))"
   ]
  },
  {
   "cell_type": "code",
   "execution_count": 14,
   "id": "2d857cc3",
   "metadata": {},
   "outputs": [
    {
     "data": {
      "text/plain": [
       "<AxesSubplot:title={'center':'Confusion Matrix'}, xlabel='Predicted label', ylabel='True label'>"
      ]
     },
     "execution_count": 14,
     "metadata": {},
     "output_type": "execute_result"
    },
    {
     "data": {
      "image/png": "[encoded data removed]",
      "text/plain": [
       "<Figure size 1656x1656 with 2 Axes>"
      ]
     },
     "metadata": {
      "needs_background": "light"
     },
     "output_type": "display_data"
    }
   ],
   "source": [
    "#draw confusion matrix using sci-kit plot\n",
    "skplt.metrics.plot_confusion_matrix( y_test,pred, normalize=False, title=\"Confusion Matrix\", cmap=\"Blues\",figsize=(23,23))"
   ]
  },
  {
   "cell_type": "code",
   "execution_count": 15,
   "id": "7e4f129c",
   "metadata": {},
   "outputs": [
    {
     "name": "stdout",
     "output_type": "stream",
     "text": [
      "95.2892561983471\n"
     ]
    }
   ],
   "source": [
    "#calcualte and print accuracy\n",
    "model_acc = accuracy_score(y_test, pred)*100\n",
    "print(str(model_acc))"
   ]
  },
  {
   "cell_type": "code",
   "execution_count": 16,
   "id": "56e93745",
   "metadata": {},
   "outputs": [],
   "source": [
    "# #calcualte and print accuracy\n",
    "model_pre =  0.96*100\n",
    "# print(model_pre)"
   ]
  },
  {
   "cell_type": "code",
   "execution_count": 17,
   "id": "376b614d",
   "metadata": {},
   "outputs": [],
   "source": [
    "user = (\"Enter Text: \")\n",
    "entered_data = CV.transform([user]).toarray()\n",
    "output=model.predict(entered_data)\n",
    "# print(\"This Language is \",output)"
   ]
  },
  {
   "cell_type": "code",
   "execution_count": 18,
   "id": "0a738862",
   "metadata": {},
   "outputs": [],
   "source": [
    "#GUI\n",
    "\n",
    "from tkinter import *\n",
    "\n",
    "\n",
    "root = Tk()\n",
    "\n",
    "root.title(\"Language Prediction Project\")\n",
    "root.geometry(\"500x350\")\n",
    "\n",
    "\n",
    "# Define a function to return the Input data\n",
    "def get_data():\n",
    "    entered_data = CV.transform([entry.get()]).toarray()\n",
    "    output=model.predict(entered_data)\n",
    "    label.config(text= output, font= ('Helvetica 13'))\n",
    "\n",
    "#Create an Entry Widget\n",
    "\n",
    "mylable2=Label(root,text=\"Enter Your Language/Sentence Here\", font=10,  height=\"2\")\n",
    "mylable2.pack()\n",
    "\n",
    "entry = Entry(root, width=100, fg=\"green\", font=10, cursor=\"arrow\")\n",
    "entry.pack()\n",
    "\n",
    "\n",
    "# CV.transform([text]).toarray()\n",
    "\n",
    "mybutton = Button(root, height=\"1\", cursor=\"target\", text=\"Result\",command= get_data, bg=\"white\", fg=\"blue\", pady=3, padx=4, font=10)\n",
    "mybutton.pack()\n",
    "\n",
    "\n",
    "\n",
    "label= Label(root, text=\"Predicted Language will be shown here\", font=('Helvetica 13'), height=\"4\", fg=\"red\")\n",
    "label.pack()\n",
    "\n",
    "label1 = Label(root, text=\"Acurracy of designed system is: \"+str(model_acc), font=('Helvetica 13'), height=\"4\", fg=\"green\")\n",
    "label1.pack()\n",
    "\n",
    "label2 = Label(root, text=\"Pecision of designed system is: \"+str(model_pre), font=('Helvetica 13'), fg=\"green\")\n",
    "label2.pack()\n",
    "\n",
    "\n",
    "root.mainloop()"
   ]
  },
  {
   "cell_type": "code",
   "execution_count": null,
   "id": "26ad46ac",
   "metadata": {},
   "outputs": [],
   "source": []
  },
  {
   "cell_type": "code",
   "execution_count": null,
   "id": "f004e460",
   "metadata": {},
   "outputs": [],
   "source": []
  },
  {
   "cell_type": "code",
   "execution_count": null,
   "id": "5f728388",
   "metadata": {},
   "outputs": [],
   "source": [
    "import speech_recognition as sr\n",
    "import pyttsx3\n",
    "def main():\n",
    "    r = sr.Recognizer()\n",
    "    \n",
    "    with sr.Microphone() as source:\n",
    "        r.adjust_for_ambient_noise(source)\n",
    "        print(\"say something..\")\n",
    "        audio = r.listen(source)\n",
    "        try:\n",
    "            audio_txt= print(\"You have said: \\n\" + r.recognize_google(audio))\n",
    "            data = CV.transform([r.recognize_google(audio)]).toarray()\n",
    "            output=model.predict(data)\n",
    "            print(\"This Language is \",output)\n",
    "            \n",
    "            #Convert in Audio Again\n",
    "            text_speech = pyttsx3.init()\n",
    "            text_speech.say(r.recognize_google(audio))\n",
    "            text_speech.runAndWait()\n",
    "        except Exception as e:\n",
    "            print(\"Error: \" + str(e))\n",
    "if __name__ == \"__main__\":\n",
    "    main()"
   ]
  },
  {
   "cell_type": "code",
   "execution_count": null,
   "id": "5903deb9",
   "metadata": {},
   "outputs": [],
   "source": [
    "from googletrans import Translator\n",
    "from google_trans_new import google_translator\n",
    "mytranslator = Translator(service_urls=['translate.google.com','translate.google.co.kr'])\n",
    "mysearch = input(str(\"Enter text: \"))\n",
    "mytranslations = mytranslator.translate([mysearch] , dest='en')\n",
    "for translation in mytranslations:\n",
    "    print(translation.origin, \"==\" , translation)\n",
    "\n",
    "# languages_to_which_convert = {'urdu':'ur'}\n",
    "# translator = Translator()\n",
    "# for key,value in languages_to_which_convert.items():\n",
    "#     print(translator.translate(mysearch,dest=value).text)\n"
   ]
  },
  {
   "cell_type": "code",
   "execution_count": null,
   "id": "dc5ab33d",
   "metadata": {},
   "outputs": [],
   "source": [
    "\n",
    "user = input(\"Enter Text: \")\n",
    "data = CV.transform([user]).toarray()\n",
    "output=model.predict(data)\n",
    "print(\"This Language is \",output)"
   ]
  },
  {
   "cell_type": "code",
   "execution_count": null,
   "id": "5242c3e0",
   "metadata": {},
   "outputs": [],
   "source": [
    "import pyttsx3\n",
    "text_speech = pyttsx3.init()\n",
    "text_speech.say(user)\n",
    "text_speech.runAndWait()"
   ]
  },
  {
   "cell_type": "code",
   "execution_count": null,
   "id": "f056936e",
   "metadata": {},
   "outputs": [],
   "source": [
    "from googletrans import Translator\n",
    "translator = Translator()\n",
    "translator.translate('안녕하세요.')"
   ]
  },
  {
   "cell_type": "code",
   "execution_count": null,
   "id": "929ad132",
   "metadata": {},
   "outputs": [],
   "source": []
  }
 ],
 "metadata": {
  "kernelspec": {
   "display_name": "Python 3 (ipykernel)",
   "language": "python",
   "name": "python3"
  },
  "language_info": {
   "codemirror_mode": {
    "name": "ipython",
    "version": 3
   },
   "file_extension": ".py",
   "mimetype": "text/x-python",
   "name": "python",
   "nbconvert_exporter": "python",
   "pygments_lexer": "ipython3",
   "version": "3.9.12"
  }
 },
 "nbformat": 4,
 "nbformat_minor": 5
}
